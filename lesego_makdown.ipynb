{
 "cells": [
  {
   "cell_type": "markdown",
   "metadata": {},
   "source": [
    "## NEW USER UI"
   ]
  },
  {
   "cell_type": "markdown",
   "metadata": {},
   "source": [
    "*The UI should be able to take users information*"
   ]
  },
  {
   "cell_type": "markdown",
   "metadata": {},
   "source": [
    "__USER information__"
   ]
  },
  {
   "cell_type": "markdown",
   "metadata": {},
   "source": [
    "*  Username\n",
    "\n",
    "*  Display name\n",
    "\n",
    "*  Phone Number\n",
    "\n",
    "*  Email Address\n",
    "\n",
    "*  User Roles between:\n",
    "\n",
    "    *  Guest\n",
    "    \n",
    "    *  Admin\n",
    "    \n",
    "    *  Super Admin\n",
    "\n"
   ]
  },
  {
   "cell_type": "markdown",
   "metadata": {},
   "source": [
    "_The control to enabled or disabled the user should be included in our UI_"
   ]
  },
  {
   "cell_type": "markdown",
   "metadata": {},
   "source": [
    "_Create a database to save New User_"
   ]
  },
  {
   "cell_type": "markdown",
   "metadata": {},
   "source": [
    "_The UI must have a save button which will save New Users to the database_"
   ]
  },
  {
   "cell_type": "markdown",
   "metadata": {},
   "source": [
    "_The UI must desplay All User Who have been saved in our UI database_"
   ]
  },
  {
   "cell_type": "markdown",
   "metadata": {},
   "source": [
    "*Our user should be desplayed in this following table format*"
   ]
  },
  {
   "cell_type": "markdown",
   "metadata": {},
   "source": [
    "__Users Table__"
   ]
  },
  {
   "cell_type": "markdown",
   "metadata": {},
   "source": [
    "   |  ID     | UserName  | Email |  Enabled  |\n",
    "   |---------|-----------|-------|-----------|\n",
    "   |1        |adminUser  |admin@piworks.net|    true   |\n",
    "   |2        |Test User  |testuser@piworks.net|    true   |"
   ]
  },
  {
   "cell_type": "markdown",
   "metadata": {},
   "source": [
    "*in table we should have a filter bottun which will have the power to filter out the Dısabled users or not*"
   ]
  },
  {
   "cell_type": "markdown",
   "metadata": {},
   "source": [
    "*The UI must have the button to create new user*"
   ]
  },
  {
   "cell_type": "code",
   "execution_count": null,
   "metadata": {},
   "outputs": [],
   "source": []
  }
 ],
 "metadata": {
  "kernelspec": {
   "display_name": "Python 3",
   "language": "python",
   "name": "python3"
  },
  "language_info": {
   "codemirror_mode": {
    "name": "ipython",
    "version": 3
   },
   "file_extension": ".py",
   "mimetype": "text/x-python",
   "name": "python",
   "nbconvert_exporter": "python",
   "pygments_lexer": "ipython3",
   "version": "3.8.5"
  }
 },
 "nbformat": 4,
 "nbformat_minor": 4
}
